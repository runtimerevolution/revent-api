{
 "cells": [
  {
   "cell_type": "code",
   "execution_count": 1,
   "metadata": {},
   "outputs": [
    {
     "data": {
      "text/plain": [
       "{'ResponseMetadata': {'RequestId': 'ae72cb2d-8734-43bd-8ddd-5185683c433b',\n",
       "  'HostId': 's9lzHYrFp76ZVxRcpX9+5cjAnEH2ROuNkd2BHfIa6UkFVdtjf5mKR3/eTPFvsiP/XV/VLi31234=',\n",
       "  'HTTPStatusCode': 200,\n",
       "  'HTTPHeaders': {'content-type': 'application/xml',\n",
       "   'access-control-allow-origin': '*',\n",
       "   'access-control-allow-methods': 'HEAD,GET,PUT,POST,DELETE,OPTIONS,PATCH',\n",
       "   'access-control-allow-headers': 'authorization,cache-control,content-length,content-md5,content-type,etag,location,x-amz-acl,x-amz-content-sha256,x-amz-date,x-amz-request-id,x-amz-security-token,x-amz-tagging,x-amz-target,x-amz-user-agent,x-amz-version-id,x-amzn-requestid,x-localstack-target,amz-sdk-invocation-id,amz-sdk-request',\n",
       "   'access-control-expose-headers': 'etag,x-amz-version-id',\n",
       "   'content-length': '321',\n",
       "   'x-amz-request-id': 'ae72cb2d-8734-43bd-8ddd-5185683c433b',\n",
       "   'x-amz-id-2': 's9lzHYrFp76ZVxRcpX9+5cjAnEH2ROuNkd2BHfIa6UkFVdtjf5mKR3/eTPFvsiP/XV/VLi31234=',\n",
       "   'connection': 'close',\n",
       "   'date': 'Wed, 20 Sep 2023 11:49:11 GMT',\n",
       "   'server': 'hypercorn-h11'},\n",
       "  'RetryAttempts': 0},\n",
       " 'Buckets': [{'Name': 'revent-media',\n",
       "   'CreationDate': datetime.datetime(2023, 9, 20, 11, 49, 11, tzinfo=tzutc())}],\n",
       " 'Owner': {'DisplayName': 'webfile',\n",
       "  'ID': '75aa57f09aa0c8caeab4f8c24e99d10f8e7faeebf76c078efc7c6caea54ba06a'}}"
      ]
     },
     "execution_count": 1,
     "metadata": {},
     "output_type": "execute_result"
    }
   ],
   "source": [
    "import boto3\n",
    "\n",
    "\"\"\"\n",
    "LocalStack uses location 'us-west-1' by default\n",
    "\"\"\"\n",
    "\n",
    "s3 = boto3.client(\"s3\", endpoint_url=\"http://localhost.localstack.cloud:4566\")\n",
    "s3.create_bucket(Bucket=\"revent-media\", CreateBucketConfiguration={'LocationConstraint': 'us-west-1'})\n",
    "s3.list_buckets()\n"
   ]
  }
 ],
 "metadata": {
  "kernelspec": {
   "display_name": "photo-contest-api-CSxmL6u5-py3.10",
   "language": "python",
   "name": "python3"
  },
  "language_info": {
   "codemirror_mode": {
    "name": "ipython",
    "version": 3
   },
   "file_extension": ".py",
   "mimetype": "text/x-python",
   "name": "python",
   "nbconvert_exporter": "python",
   "pygments_lexer": "ipython3",
   "version": "3.10.4"
  },
  "orig_nbformat": 4
 },
 "nbformat": 4,
 "nbformat_minor": 2
}
